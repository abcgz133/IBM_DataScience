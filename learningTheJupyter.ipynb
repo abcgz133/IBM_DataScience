{
    "cells": [
        {
            "metadata": {},
            "cell_type": "code",
            "source": "# My Jupyter Notebook on IBM Watson StudioL",
            "execution_count": null,
            "outputs": []
        },
        {
            "metadata": {},
            "cell_type": "code",
            "source": "**YINGCONG,CHEN**\nData Scientist in VISA",
            "execution_count": null,
            "outputs": []
        },
        {
            "metadata": {},
            "cell_type": "code",
            "source": "*Why I am interested in Data Science? It's because I have been a risk mananger for more than 6 years! I believe I will be an expert after learning this course!*\n",
            "execution_count": null,
            "outputs": []
        },
        {
            "metadata": {},
            "cell_type": "code",
            "source": "### the code to print a line ###",
            "execution_count": null,
            "outputs": []
        },
        {
            "metadata": {},
            "cell_type": "code",
            "source": "print(\"This is the course of Data Science\")",
            "execution_count": 13,
            "outputs": [
                {
                    "output_type": "stream",
                    "text": "This is the course of Data Science\n",
                    "name": "stdout"
                }
            ]
        },
        {
            "metadata": {},
            "cell_type": "markdown",
            "source": "1. First item\n2. Second item\n3. Third item\n    - Indented item\n    - Indented item\n4. Fourth item\n5. an image\n![here is a picture](https://alifei05.cfp.cn/creative/vcg/800/new/VCG211177178924.jpg \"the title is :cong's picture\")\n6. an link\n   Here is a link [the search engine](https://www.baidu.com)\n7. some codes of scala\n```\n val a = 0\n val b = 1\n```\n8. here is the end of the Markdown"
        },
        {
            "metadata": {},
            "cell_type": "code",
            "source": "",
            "execution_count": null,
            "outputs": []
        }
    ],
    "metadata": {
        "kernelspec": {
            "name": "python3",
            "display_name": "Python 3.9",
            "language": "python"
        },
        "language_info": {
            "name": "python",
            "version": "3.9.13",
            "mimetype": "text/x-python",
            "codemirror_mode": {
                "name": "ipython",
                "version": 3
            },
            "pygments_lexer": "ipython3",
            "nbconvert_exporter": "python",
            "file_extension": ".py"
        }
    },
    "nbformat": 4,
    "nbformat_minor": 1
}